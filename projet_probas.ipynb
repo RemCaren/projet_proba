{
 "cells": [
  {
   "cell_type": "markdown",
   "metadata": {},
   "source": [
    "## Instructions {-}\n",
    "Ce sujet est constitué de deux parties : la partie 1 correspond au sujet donné l'an dernier, dont la correction vous est donnée, la partie 2 constitue la partie qui sera évaluée et se place dans la continuité de la partie 1."
   ]
  },
  {
   "cell_type": "markdown",
   "metadata": {},
   "source": [
    "# Enoncé du problème (Partie 1)\n",
    "\n",
    "L'objectif de ce projet est d'estimer la longueur de câble sous-marin nécessaire pour relier deux côtes $A$ et $B$  en utilisant des simulations conditionnelles.\n",
    "\n",
    "\n",
    "Le câble reposera sur le fond marin dont la profondeur est inconnue.\n",
    "Le segment $[AB]$ est discrétisé par une séquence de (N+1) points. On pose $x_0=A$ et pour $i=1,\\dots,N$, $$x_i=x_0+i\\Delta$$ où $$\\Delta = \\frac{AB}{N}$$ de telle sorte que $x_N=B$.\n",
    "On note $z(x)$ la profondeur du fond marin au point $x$ de telle sorte \n",
    "qu'on pourra estimer la longueur totale de câble nécessaire par la somme \n",
    "des longueurs sur les segments de la discrétisation :\n",
    "\n",
    "$$l=\\sum_{i=1}^N\\sqrt{\\Delta^2+(z(x_i)-z(x_{i-1}))^2}.$$\n",
    "\n",
    "Enfin, notons que l'on dispose d'un ensemble de $n$ observations de la \n",
    "profondeur que l'on supposera situées sur des points de discrétisation $z(x_{j_1}),\\dots,z(x_{j_n})$.\n",
    "\n",
    "\n",
    "On adopte un modèle probabiliste pour la profondeur. On suppose que le vecteur des \n",
    "profondeurs sur les points de discrétisation \n",
    "$\\mathbf{z}=(z(x_0),\\dots,z(x_N))$ est la réalisation\n",
    "d'un vecteur aléatoire gaussien $\\mathbf{Z}=(Z(x_0),\\dots,Z(x_N))$ \n",
    "dont le vecteur d'espérance ne contient qu'une seule valeur $\\mu$ \n",
    "répétée $N+1$ fois et dont la matrice de covariance $\\Sigma$ a pour termes $\\sigma_{ij}$\n",
    "définis par $\\sigma_{ij}=C(|x_i-x_j|)$ où $C$ est une\n",
    "fonction décroissante, traduisant le fait que deux points \n",
    "géographiquement proches ont tendance à avoir des profondeurs plus similaires que deux points éloignés.\n",
    "\n",
    "On supposera que la matrice de covariance ainsi \n",
    "générée est définie-positive (en fait, $C$ sera choisie parmi les fonctions qui, \n",
    "appliquées aux termes d'une matrice de distance, produisent des matrices définie-positives). \n",
    "\n",
    "Si on note $L$ la variable aléatoire donnant la longueur de cable nécessaire : \n",
    "$$L=\\sum_{i=1}^N\\sqrt{\\Delta^2+(Z(x_i)-Z(x_{i-1}))^2},$$\n",
    "un bon estimateur de $L$ est fourni par l'espérance conditionnelle \n",
    "\n",
    "$$L^\\star=E[L|Z(x_{j_1})=z(x_{j_1}),\\dots,Z(x_{j_n})=z(x_{j_n})].$$\n",
    "                                                                              \n",
    "Cependant, cette quantité est difficilement accessible par le calcul. \n",
    "On va donc avoir recours à des\n",
    "simulations conditionnelles. C'est-à-dire que l'on va simuler \n",
    "un nombre $K$ de réalités (disons des réalisations du modèle \n",
    "probabiliste choisi), et sur chacune d'entre elle, \n",
    "la quantité de câble nécessaire sera évaluée. \n",
    "On disposera ainsi d'un échantillon $l_{(1)},\\dots,l_{(K)}$ de \n",
    "longueures simulées. Puis on approchera l'espérance conditionnelle  par \n",
    "$$L^\\star=\\frac1{K}\\sum_{k=1}^K l_{(k)}.$$\n",
    "\n",
    "L'objectif de ce projet est donc d'écrire un code permettant \n",
    "d'effectuer cette simulation conditionnelle, puis de l'appliquer \n",
    "au jeu de données fourni et d'en déduire une estimation de la longueur de câble nécessaire."
   ]
  },
  {
   "cell_type": "markdown",
   "metadata": {},
   "source": [
    "## Questions théoriques\n",
    "\n",
    "1. Quel théorème du cours nous autorise-t-il à estimer l'espérance conditionnelle par la moyenne empirique de simulations conditionnelles ?\n",
    "\n",
    "*la loi forte des grands nombres, cf [Proba IV p.16](https://boisgera.github.io/CDIS/output/Probabilit%C3%A9%20IV.pdf), en vérifiant que $L$ est bien intégrable*\n",
    "\n",
    "2. Rappeler la loi conditionnelle du vecteur des composantes de $\\mathbf{Z}$ correspondant aux points de discrétisation\n",
    "sans observation, connaissant les valeurs prises par les composantes aux sites d'observation.\n",
    "\n",
    "*cf. [Proba III p.18](https://boisgera.github.io/CDIS/output/Probabilit%C3%A9%20III.pdf),*\n",
    "\n",
    "3. Si $\\mathbf{Y}=(Y_1,\\dots,Y_p)$ est un vecteur de composantes gaussiennes indépendantes, toutes d'espérance nulle et de variance 1, \n",
    "quelle est la loi du vecteur $\\mathbf{Z}=m+R\\mathbf{Y}$ où $R$ est une matrice $p\\times p$ et $m$ est un vecteur de taille $p$ ?\n",
    "\n",
    "*cf. [Proba V p.12](https://cloud.mines-paristech.fr/index.php/s/GLDwtTAMOJCYk3i/download)*\n",
    "\n",
    "4. En déduire un algorithme de simulation conditionnelle.\n",
    "\n",
    "*Appliquer l'algorithme de la q.3 à la loi conditionnelle (on calculera en particulier l'espérance conditionnelle de $\\mathbf{Z}$ sachant les données et la décomposition de Cholesky de la matrice de covariance conditionnelle sachant les données).*"
   ]
  },
  {
   "cell_type": "markdown",
   "metadata": {},
   "source": [
    "## Données du problème\n",
    "Conventionnellement, $A$ est l'origine, $B=500$, $N=100$.\n",
    "\n",
    "Les données $$\\begin{array}{c|r}i & z(x_i)\\\\\n",
    "\\hline\n",
    "0 & 0\\\\\n",
    "20 & -4\\\\\n",
    "40 & -12.8\\\\\n",
    "60 & -1\\\\\n",
    "80 & -6.5\\\\\n",
    "100 & 0\\end{array}$$\n",
    "\n",
    "L'espérance de chaque composante du vecteur aléatoire $\\mathbf{Z}$ est donnée par $\\mu=-5.$\n",
    "\n",
    "La fonction $C$ est définie par $$C(h)=\\sigma^2 e^{-|h|/a},$$\n",
    "\n",
    "où $|h|$ correspond à la distance entre deux points, $a=50$ et $\\sigma^2=12$.\n"
   ]
  },
  {
   "cell_type": "markdown",
   "metadata": {},
   "source": [
    "## Implémentation"
   ]
  },
  {
   "cell_type": "markdown",
   "metadata": {},
   "source": [
    "### Préambule"
   ]
  },
  {
   "cell_type": "code",
   "execution_count": 1,
   "metadata": {},
   "outputs": [],
   "source": [
    "#Chargement de dépendances\n",
    "\n",
    "import math\n",
    "import numpy as np\n",
    "from scipy.integrate import quad\n",
    "import matplotlib.pyplot as plt\n",
    "\n",
    "#Discrétisation\n",
    "A=0\n",
    "B=500\n",
    "N=101 #Nombre de points de discrétisation\n",
    "Delta = (B-A)/(N-1)\n",
    "discretization_indexes = np.arange(N)\n",
    "discretization = discretization_indexes*Delta\n",
    "#Paramètres du modèle\n",
    "\n",
    "mu=-5\n",
    "a = 50\n",
    "sigma2 = 12\n",
    "\n",
    "#Données\n",
    "\n",
    "observation_indexes = [0,20,40,60,80,100]\n",
    "depth = np.array([0,-4,-12.8,-1,-6.5,0])\n",
    "\n",
    "#Indices des composantes correspondant aux observations et aux componsantes non observées\n",
    "\n",
    "unknown_indexes=list(set(discretization_indexes)-set(observation_indexes))\n"
   ]
  },
  {
   "cell_type": "markdown",
   "metadata": {},
   "source": [
    "### Questions\n",
    "\n",
    "1. Ecrire une fonction qui prend en argument la distance entre les points, le paramètre $a$, et le paramètre $\\sigma^2$, et qui retourne la covariance entre deux points.\n",
    "On pourra fournir une matrice de distance à cette fonction. Dans ce cas, la fonction renverra la matrice de covariance."
   ]
  },
  {
   "cell_type": "code",
   "execution_count": 2,
   "metadata": {},
   "outputs": [],
   "source": [
    "#Fonction C\n",
    "\n",
    "def Covexp(dist,rangeval,sigmaval):\n",
    "    return sigmaval * np.exp(-dist/rangeval)\n"
   ]
  },
  {
   "cell_type": "markdown",
   "metadata": {},
   "source": [
    "2. Calculer la matrice de distance."
   ]
  },
  {
   "cell_type": "code",
   "execution_count": 3,
   "metadata": {},
   "outputs": [],
   "source": [
    "distmat=abs(np.subtract.outer(discretization,discretization))"
   ]
  },
  {
   "cell_type": "markdown",
   "metadata": {},
   "source": [
    "3. Calculer la matrice de covariance du vecteur $\\mathbf{Z}=(Z(x_0),\\dots,Z(x_N))$."
   ]
  },
  {
   "cell_type": "code",
   "execution_count": 4,
   "metadata": {},
   "outputs": [],
   "source": [
    "Sigma=Covexp(distmat,a,sigma2)"
   ]
  },
  {
   "cell_type": "markdown",
   "metadata": {},
   "source": [
    "4. Extraire les 3 matrices de covariance suivantes :\n",
    "\n",
    " * entre les observations\n",
    "\n",
    " * entre les observations et les inconnues\n",
    "\n",
    " * entre les inconnues\n"
   ]
  },
  {
   "cell_type": "code",
   "execution_count": 5,
   "metadata": {},
   "outputs": [],
   "source": [
    "SigmaObs = Sigma[observation_indexes,:][:,observation_indexes]\n",
    "SigmaObsUnknown = Sigma[observation_indexes,:][:,unknown_indexes]\n",
    "SigmaUnknown = Sigma[unknown_indexes,:][:,unknown_indexes]"
   ]
  },
  {
   "cell_type": "markdown",
   "metadata": {},
   "source": [
    "5. Calculer l'espérance conditionnelle des composantes non observées connaissant les observations et la représenter avec les données."
   ]
  },
  {
   "cell_type": "code",
   "execution_count": 6,
   "metadata": {},
   "outputs": [],
   "source": [
    "invSigma = np.linalg.inv(SigmaObs) \n",
    "Ec= mu+np.matmul(np.transpose(SigmaObsUnknown),np.matmul(np.linalg.inv(SigmaObs),depth-mu))"
   ]
  },
  {
   "cell_type": "code",
   "execution_count": 7,
   "metadata": {},
   "outputs": [
    {
     "data": {
      "image/png": "[encoded data removed]",
      "text/plain": [
       "<Figure size 432x288 with 1 Axes>"
      ]
     },
     "metadata": {
      "needs_background": "light"
     },
     "output_type": "display_data"
    }
   ],
   "source": [
    "allval1 = np.zeros(N)\n",
    "allval1[unknown_indexes]=Ec\n",
    "allval1[observation_indexes]=depth\n",
    "plt.plot(discretization,allval1)\n",
    "plt.plot(discretization[observation_indexes], depth, 'ro')\n",
    "plt.show()"
   ]
  },
  {
   "cell_type": "markdown",
   "metadata": {},
   "source": [
    "6. Calculer la matrice de variance conditionnelle et tracer sa diagonale (variance conditionnelle) en fonction de la position. Commenter."
   ]
  },
  {
   "cell_type": "code",
   "execution_count": 8,
   "metadata": {},
   "outputs": [],
   "source": [
    "SigmaCond = SigmaUnknown - np.matmul(np.transpose(SigmaObsUnknown),np.matmul(np.linalg.inv(SigmaObs),SigmaObsUnknown))"
   ]
  },
  {
   "cell_type": "code",
   "execution_count": 9,
   "metadata": {},
   "outputs": [
    {
     "data": {
      "image/png": "[encoded data removed]",
      "text/plain": [
       "<Figure size 432x288 with 1 Axes>"
      ]
     },
     "metadata": {
      "needs_background": "light"
     },
     "output_type": "display_data"
    }
   ],
   "source": [
    "allval2 = np.zeros(N)\n",
    "allval2[unknown_indexes]=np.diag(SigmaCond)\n",
    "plt.plot(discretization,allval2)\n",
    "plt.plot(discretization[observation_indexes], np.zeros(np.shape(observation_indexes)[0]), 'ro')\n",
    "plt.show()"
   ]
  },
  {
   "cell_type": "markdown",
   "metadata": {},
   "source": [
    "*On voit ici que la variance est nulle aux points de données (puisque la valeur est fixée) puis qu'elle augmente lorsqu'on s'éloigne des données*"
   ]
  },
  {
   "cell_type": "markdown",
   "metadata": {},
   "source": [
    "7. Effectuer une simulation conditionnelle. Sur un même graphique, tracer la simulation ainsi que les données et l'espérance conditionnelle. Commenter."
   ]
  },
  {
   "cell_type": "code",
   "execution_count": 10,
   "metadata": {},
   "outputs": [],
   "source": [
    "Cholesky = np.linalg.cholesky(SigmaCond)\n",
    "x = np.random.normal(0, 1, np.shape(unknown_indexes)[0])\n",
    "simu = Ec + np.matmul(Cholesky,x)"
   ]
  },
  {
   "cell_type": "code",
   "execution_count": 11,
   "metadata": {
    "scrolled": true
   },
   "outputs": [
    {
     "data": {
      "image/png": "[encoded data removed]",
      "text/plain": [
       "<Figure size 432x288 with 1 Axes>"
      ]
     },
     "metadata": {
      "needs_background": "light"
     },
     "output_type": "display_data"
    }
   ],
   "source": [
    "allval3 = np.zeros(N)\n",
    "allval3[unknown_indexes]=simu\n",
    "allval3[observation_indexes]=depth\n",
    "plt.plot(discretization,allval3)\n",
    "plt.plot(discretization,allval1)\n",
    "plt.plot(discretization[observation_indexes], depth, 'ro')\n",
    "plt.show()"
   ]
  },
  {
   "cell_type": "markdown",
   "metadata": {},
   "source": [
    "*l'espérance conditionnelle est lisse car c'est la fonction des données qui minimise la variance ; la simulation conditionnelle reproduit les fluctuations du modèle et donc l'aspect du fond marin*"
   ]
  },
  {
   "cell_type": "markdown",
   "metadata": {},
   "source": [
    "8. Ecrire une fonction qui calcule la longueur du câble en fonction du vecteur des profondeurs et du pas de discrétisation."
   ]
  },
  {
   "cell_type": "code",
   "execution_count": 12,
   "metadata": {},
   "outputs": [],
   "source": [
    "def length(z,delta):\n",
    "    return sum(np.sqrt(Delta**2+(z[1:N]-z[0:-1])**2))"
   ]
  },
  {
   "cell_type": "markdown",
   "metadata": {},
   "source": [
    "9. Utiliser cette fonction pour calculer la longueur du câble à partir de 100 simulations. Comparer l'espérance conditionnelle (estimée) de la longueur avec la longueur de l'espérance conditionnelle."
   ]
  },
  {
   "cell_type": "code",
   "execution_count": 13,
   "metadata": {},
   "outputs": [],
   "source": [
    "K=100000\n",
    "result = np.zeros(K)\n",
    "for i in range(K):\n",
    "    x=np.random.normal(0,1,np.shape(unknown_indexes)[0])\n",
    "    allval3[unknown_indexes]=Ec + np.matmul(Cholesky,x)\n",
    "    result[i]=length(allval3,Delta)"
   ]
  },
  {
   "cell_type": "code",
   "execution_count": 14,
   "metadata": {},
   "outputs": [
    {
     "data": {
      "text/plain": [
       "522.4460833202526"
      ]
     },
     "execution_count": 14,
     "metadata": {},
     "output_type": "execute_result"
    }
   ],
   "source": [
    "sum(result)/K"
   ]
  },
  {
   "cell_type": "code",
   "execution_count": 15,
   "metadata": {},
   "outputs": [
    {
     "data": {
      "text/plain": [
       "501.6468416918411"
      ]
     },
     "execution_count": 15,
     "metadata": {},
     "output_type": "execute_result"
    }
   ],
   "source": [
    "length(allval1,Delta)"
   ]
  },
  {
   "cell_type": "markdown",
   "metadata": {},
   "source": [
    "*On donne ici directement les résultats pour 100000 simulations (comparer la vitesse d'éxécution avec votre code pour voir l'intérêt de la vectorisation).*\n",
    "\n",
    "*On voit ici que la longueur donnée par l'espérance conditionnelle est bien moindre que la longueur d'une simulation conditionnelle. Ceci est dû au fait que la simulation conditionnelle va reproduire les fluctuations attendues, au contraire de l'espérance conditionnelle qui minimise la variance.*\n",
    "\n",
    "*NB : On remarquera que c'est le seul endroit où on a utilisé une boucle dans cette correction. On aurait pu s'en passer en utilisant notamment les outils de la librairie Pandas mais le code est plus lisible ainsi.*"
   ]
  },
  {
   "cell_type": "markdown",
   "metadata": {},
   "source": [
    "10. Représenter la suite $M_n$ des moyennes des longueurs de câbles en fonction du nombre de simulations. Commenter."
   ]
  },
  {
   "cell_type": "code",
   "execution_count": 16,
   "metadata": {},
   "outputs": [
    {
     "data": {
      "image/png": "[encoded data removed]",
      "text/plain": [
       "<Figure size 432x288 with 1 Axes>"
      ]
     },
     "metadata": {
      "needs_background": "light"
     },
     "output_type": "display_data"
    }
   ],
   "source": [
    "indice_simu = 1+np.arange(K)\n",
    "plt.plot(indice_simu,np.cumsum(result)/indice_simu)\n",
    "plt.show()"
   ]
  },
  {
   "cell_type": "markdown",
   "metadata": {},
   "source": [
    "*Comme attendu d'après la LFGN, on observe une stabilisation de la valeur moyenne. Les variations sont imperceptibles après quelques dizaines de milliers de simulations*"
   ]
  },
  {
   "cell_type": "markdown",
   "metadata": {},
   "source": [
    "11. Représenter l'histogramme des longueurs de câbles générées."
   ]
  },
  {
   "cell_type": "code",
   "execution_count": 17,
   "metadata": {},
   "outputs": [
    {
     "data": {
      "image/png": "[encoded data removed]",
      "text/plain": [
       "<Figure size 432x288 with 1 Axes>"
      ]
     },
     "metadata": {
      "needs_background": "light"
     },
     "output_type": "display_data"
    }
   ],
   "source": [
    "plt.hist(result,50,density=True)\n",
    "plt.show()"
   ]
  },
  {
   "cell_type": "markdown",
   "metadata": {},
   "source": [
    "*L'histogramme ressemble à une densité gaussienne, avec néanmoins une légère dissymétrie (plus de valeurs fortes).*"
   ]
  },
  {
   "cell_type": "markdown",
   "metadata": {},
   "source": [
    "12. Donner un intervalle de confiance à 95% de la longueur du câble par 2 méthodes différentes. Commenter."
   ]
  },
  {
   "cell_type": "markdown",
   "metadata": {},
   "source": [
    "*1ère méthode : par approximation gaussienne. L'histogramme précédent suggère qu'une loi gaussienne peut bien représenter la loi conditionnelle de la longueur du cable. On obtient un intervalle de confiance en calculant la moyenne (milieu de l'intervalle) et l'écart type de l'échantillon de longueurs de câble puis en appliquant la formule du cours.*"
   ]
  },
  {
   "cell_type": "code",
   "execution_count": 18,
   "metadata": {},
   "outputs": [
    {
     "data": {
      "text/plain": [
       "[516.7794979300194, 528.1126687104858]"
      ]
     },
     "execution_count": 18,
     "metadata": {},
     "output_type": "execute_result"
    }
   ],
   "source": [
    "Ln = sum(result)/K\n",
    "sigman = np.std(result)\n",
    "[Ln - sigman*1.96,Ln + sigman*1.96]"
   ]
  },
  {
   "cell_type": "markdown",
   "metadata": {},
   "source": [
    "*2e méthode : on extrait les quantiles à 2.5% et 97.5% de l'échantillon, c'est-à-dire les valeurs $x_\\alpha$ pour $\\alpha \\in \\{0.025 ; 0.975\\}$telles que* $$\\mathbb{P}(L<x_\\alpha) \\approx \\frac{1}{n}\\sum_{i=1}^N 1_{\\{L_i<x_\\alpha\\}}$$"
   ]
  },
  {
   "cell_type": "code",
   "execution_count": 19,
   "metadata": {},
   "outputs": [
    {
     "data": {
      "text/plain": [
       "array([517.13361396, 528.43350746])"
      ]
     },
     "execution_count": 19,
     "metadata": {},
     "output_type": "execute_result"
    }
   ],
   "source": [
    "np.quantile(result,[0.025,0.975])"
   ]
  },
  {
   "cell_type": "markdown",
   "metadata": {},
   "source": [
    "*ATTENTION : ici l'utilisation du TCL tel qu'exposé au début du chapitre 5 fournissait un intervalle de confiance de l'**espérance de la longueur de câble** et non de la **longueur de câble** (erreur fréquente).*\n",
    "\n",
    "*On voit par ailleurs que la 2e méthode est plus précise car elle est basée directement sur la loi empirique de l'échantillon*"
   ]
  },
  {
   "cell_type": "markdown",
   "metadata": {},
   "source": [
    "13. Donner une estimation de la probabilité que la longueur du câble dépasse 525 m."
   ]
  },
  {
   "cell_type": "code",
   "execution_count": 20,
   "metadata": {},
   "outputs": [
    {
     "data": {
      "text/plain": [
       "0.18555"
      ]
     },
     "execution_count": 20,
     "metadata": {},
     "output_type": "execute_result"
    }
   ],
   "source": [
    "np.mean(result>525)"
   ]
  },
  {
   "cell_type": "markdown",
   "metadata": {},
   "source": [
    "14. Reprendre les questions précédentes avec 1000, 10000 puis 100000 simulations. Commenter"
   ]
  },
  {
   "cell_type": "markdown",
   "metadata": {},
   "source": [
    "*cf. le commentaire de la question 10. On observe une stabilisation progressive des estimateurs des différentes quantités calculées : moyennes, quantiles, probabilité de dépassement de seuil.*"
   ]
  },
  {
   "cell_type": "markdown",
   "metadata": {},
   "source": [
    "# Enoncé 2021 (Partie 2)\n",
    "\n",
    "Nous nous plaçons dans le même cadre que ci-dessus. Nous tenons pour acquis les résultats précédents et allons maintenant approfondir l'analyse."
   ]
  },
  {
   "cell_type": "markdown",
   "metadata": {
    "tags": []
   },
   "source": [
    "## Valeurs positives\n",
    "\n",
    "1. \n",
    "A la question 7 de la partie 1, on peut s'apercevoir que certains profils de profondeur présentent des valeurs positives, ce qui n'a pas de sens si on considère qu'il n'y a pas de partie émergée entre les deux côtes. Proposer et implémenter un algorithme de type rejet qui ne génèrera que des valeurs négatives. Représenter un profil de profondeur généré."
   ]
  },
  {
   "cell_type": "code",
   "execution_count": 84,
   "metadata": {
    "tags": []
   },
   "outputs": [
    {
     "data": {
      "image/png": "[encoded data removed]",
      "text/plain": [
       "<Figure size 432x288 with 1 Axes>"
      ]
     },
     "metadata": {
      "needs_background": "light"
     },
     "output_type": "display_data"
    }
   ],
   "source": [
    "Cholesky = np.linalg.cholesky(SigmaCond)\n",
    "\n",
    "def rejet(ec): # pour la dépendance en mu Q.8\n",
    "    x = np.random.normal(0, 1, np.shape(unknown_indexes)[0])\n",
    "    simu = ec + np.matmul(Cholesky, x)\n",
    "    while np.any(simu > 0):\n",
    "        x = np.random.normal(0, 1, np.shape(unknown_indexes)[0])\n",
    "        simu = ec + np.matmul(Cholesky, x)\n",
    "    return simu\n",
    "        \n",
    "sim = rejet(Ec)\n",
    "allval3 = np.zeros(N)\n",
    "allval3[unknown_indexes] = sim\n",
    "allval3[observation_indexes] = depth\n",
    "plt.plot(discretization, allval3);\n",
    "plt.plot(discretization, allval1);\n",
    "plt.plot(discretization[observation_indexes], depth, 'ro');"
   ]
  },
  {
   "cell_type": "markdown",
   "metadata": {},
   "source": [
    "2. L'emploi de cet algorithme a-t-il un impact sur la valeur moyenne de la longueur de câble ? Sur l'histogramme des longueurs de câble ? Sur l'intervalle de confiance obtenu par la méthode des quantiles ? Sur la probabilité de dépassement du seuil de 525 m? Donner une estimation du taux de rejet de l'algorithme. Considérer 10000 simulations."
   ]
  },
  {
   "cell_type": "code",
   "execution_count": 65,
   "metadata": {
    "tags": []
   },
   "outputs": [
    {
     "name": "stdout",
     "output_type": "stream",
     "text": [
      "521.8376801327868\n"
     ]
    },
    {
     "data": {
      "image/png": "[encoded data removed]",
      "text/plain": [
       "<Figure size 432x288 with 1 Axes>"
      ]
     },
     "metadata": {
      "needs_background": "light"
     },
     "output_type": "display_data"
    },
    {
     "data": {
      "image/png": "[encoded data removed]",
      "text/plain": [
       "<Figure size 432x288 with 1 Axes>"
      ]
     },
     "metadata": {
      "needs_background": "light"
     },
     "output_type": "display_data"
    },
    {
     "name": "stdout",
     "output_type": "stream",
     "text": [
      "quantile modifié: [516.68038275 527.79285311]\n",
      "quantile comme avant: [517.10030269 528.36103121]\n",
      "proba modifié: 0.1324\n",
      "proba comme avant: 0.1844\n"
     ]
    }
   ],
   "source": [
    "K=10000\n",
    "result = np.zeros(K)\n",
    "for i in range(K):\n",
    "    x = np.random.normal(0, 1, np.shape(unknown_indexes)[0])\n",
    "    allval3[unknown_indexes] = Ec + np.matmul(Cholesky,x)\n",
    "    result[i] = length(allval3, Delta)\n",
    "\n",
    "result2 = np.zeros(K) #avec l'algo de rejet\n",
    "for i in range(K):\n",
    "    allval3[unknown_indexes] = rejet(Ec)\n",
    "    result2[i] = length(allval3, Delta)\n",
    "    \n",
    "#moyenne\n",
    "print(f\"moyenne comme avant:{sum(result)/K}\")\n",
    "print(f\"moyenne modifiée:{sum(result2)/K}\")\n",
    "\n",
    "indice_simu = 1 + np.arange(K)\n",
    "plt.plot(indice_simu, np.cumsum(result) / indice_simu, color = 'b') #en bleu, la moyenne comme avant\n",
    "plt.plot(indice_simu, np.cumsum(result2) / indice_simu, color = 'r') #en rouge, la moyenne modifiée\n",
    "plt.show()\n",
    "\n",
    "#histogramme\n",
    "plt.hist(result, 50, density = True, color = 'b')\n",
    "plt.hist(result2, 50, density = True, color = 'r')\n",
    "plt.show()\n",
    "\n",
    "#intervalle de confiance\n",
    "print(f\"quantile comme avant: {np.quantile(result,[0.025,0.975])}\")\n",
    "print(f\"quantile modifié: {np.quantile(result2,[0.025,0.975])}\")\n",
    "\n",
    "#proba de dépassement\n",
    "print(f\"proba comme avant: {np.mean(result>525)}\")\n",
    "print(f\"proba modifié: {np.mean(result2>525)}\")"
   ]
  },
  {
   "cell_type": "markdown",
   "metadata": {},
   "source": [
    "On a donc besoin de moins de câble à présent"
   ]
  },
  {
   "cell_type": "code",
   "execution_count": 67,
   "metadata": {
    "tags": []
   },
   "outputs": [
    {
     "name": "stdout",
     "output_type": "stream",
     "text": [
      "taux de rejet: 96.96969696971733 %\n"
     ]
    }
   ],
   "source": [
    "running = True\n",
    "compteur = 0\n",
    "rejet = 0\n",
    "\n",
    "for k in range(10000):\n",
    "    while running == True:\n",
    "        running = False\n",
    "        x = np.random.normal(0, 1, np.shape(unknown_indexes)[0])\n",
    "        simu = Ec + np.matmul(Cholesky,x)\n",
    "        for y in simu:\n",
    "            if y > 0:\n",
    "                running = True\n",
    "        compteur += 1\n",
    "    rejet += (compteur/(compteur + 1))*100\n",
    "    \n",
    "print(f\"taux de rejet: {rejet / 10000} %\")"
   ]
  },
  {
   "cell_type": "markdown",
   "metadata": {
    "tags": []
   },
   "source": [
    "## Approche Bayésienne\n",
    "\n",
    "Dans la première partie, on a considéré que l'ensemble des paramètres du modèle était parfaitement connu. Toutes choses égales par ailleurs, on va maintenant considérer que la moyenne $\\mu$ est issue d'une estimation entâchée d'une incertitude. Plus précisément, on va modéliser cette incertitude en considérant que $\\mu \\sim \\mathcal{N}(-5,4)$.\n",
    "\n",
    "On va également décomposer le vecteur $\\mathbf{Z}$ en $\\mathbf{Z} = (\\mathbf{Z}_{\\text{OBS}},\\mathbf{Z}_{\\text{UNK}})$. On notera $C_{\\text{OBS}}$ et $C_{\\text{UNK}}$ les matrices de covariance respectives de $\\mathbf{Z}_{\\text{OBS}}$ et $\\mathbf{Z}_{\\text{UNK}}$ ainsi que $C_{\\text{OBS},\\text{UNK}}$ la matrice des covariances entre ces deux vecteurs."
   ]
  },
  {
   "cell_type": "markdown",
   "metadata": {},
   "source": [
    "### Questions théoriques\n",
    "\n",
    "3. Montrer que $\\mu | \\mathbf{Z}_{\\text{OBS}}= \\mathbf{z}_{\\text{OBS}} \\sim \\mathcal{N}(\\widehat{\\mu},\\widehat{\\sigma}^2)$ avec\n",
    "$$\\widehat{\\sigma}^2 = (\\mathbf{1}^t C_{\\text{OBS}}^{-1} \\mathbf{1} + \\frac1{4})^{-1},$$ \n",
    "où $\\mathbf{1}$ est un vecteur de longueur 6 (soit la longueur du vecteur $\\mathbf{Z}_{\\text{OBS}}$) ne contenant que des 1 et \n",
    "$$\\widehat{\\mu} = \\widehat{\\sigma}^2 (\\mathbf{1}^t C_{\\text{OBS}}^{-1} \\mathbf{z}_{\\text{OBS}} - \\frac{5}{4} )$$\n",
    "Indication : écrire la densité jointe du vecteur $(\\mathbf{Z}_{\\text{OBS}},\\mu)$, calculer $-2 \\ln$ de cette densité puis identifier la forme quadratique faisant intervenir $\\mu$."
   ]
  },
  {
   "cell_type": "markdown",
   "metadata": {
    "tags": []
   },
   "source": [
    "##### Réponse\n",
    "\n",
    "On sait que $\\mathbf{Z}_{\\text{OBS}} | \\mu = \\bar{\\mu} \\sim \\mathcal{N}(\\bar{\\mu},C_{\\text{OBS}})$ et $\\mu \\sim \\mathcal{N}(-5,4)$\n",
    "\n",
    "De plus on a: \n",
    "$$f_{\\mathbf{Z}_{\\text{OBS}},\\mu}(\\mathbf{z}_{\\text{OBS}},\\bar{\\mu}) = f_{\\mathbf{Z}_{\\text{OBS}}|\\mu=\\bar{\\mu}}(\\mathbf{z}_{\\text{OBS}})f_{\\mu}(\\bar{\\mu})$$\n",
    "$$f_{\\mathbf{Z}_{\\text{OBS}},\\mu}(\\mathbf{z}_{\\text{OBS}},\\bar{\\mu}) = f_{\\mu|\\mathbf{Z}_{\\text{OBS}}=\\mathbf{z}_{\\text{OBS}}}(\\bar{\\mu})f_{\\mathbf{Z}_{\\text{OBS}}(\\mathbf{z}_{\\text{OBS}}})$$\n",
    "\n",
    "\n",
    "D'où $-2\\ln(f_{\\mathbf{Z}_{\\text{OBS}},\\mu}(\\mathbf{z}_{\\text{OBS}},\\bar{\\mu})) = (\\mathbf{z}_{\\text{OBS}}-\\mathbf{1}{\\bar{\\mu}})^{t}C_{\\text{OBS}}^{-1}(\\mathbf{z}_{\\text{OBS}}-\\mathbf{1}{\\bar{\\mu}})+ (\\frac{5+\\bar{\\mu}}{2})^2+\\ln(8\\pi)+\\ln((2\\pi)^6det(C_{\\text{OBS}}))$.\n",
    "\n",
    "On identifie les termes en $\\bar{\\mu}$ comme demandé dans l'énoncé dans l'expression ci-dessus:\n",
    "$$\\bar{\\mu}^2(\\mathbf{1}^t C_{\\text{OBS}}^{-1} \\mathbf{1} + \\frac1{4})-2\\bar{\\mu}(\\mathbf{1}^{t}C_{\\text{OBS}}^{-1}\\mathbf{z}_{\\text{OBS}}-\\frac{5}{4})$$\n",
    "D'où $\\fbox{$(\\frac{\\bar{\\mu}-\\widehat{\\mu}}{\\widehat{\\sigma}})^2+Cste$}$; avec $\\widehat{\\sigma}^2 = (\\mathbf{1}^t C_{\\text{OBS}}^{-1} \\mathbf{1} + \\frac1{4})^{-1}$ et $\\widehat{\\mu} = \\widehat{\\sigma}^2 (\\mathbf{1}^t C_{\\text{OBS}}^{-1} \\mathbf{z}_{\\text{OBS}} - \\frac{5}{4})$\n",
    "\n",
    "D'où le résultat voulu."
   ]
  },
  {
   "cell_type": "markdown",
   "metadata": {},
   "source": [
    "4. Montrer que si $X$, $Y$ et $Z$ sont trois vecteurs aléatoires à densité, alors $f_{X,Y|Z = z}(x,y) = f_{X|Y=y,Z=z}(x)f_{Y|Z=Z}(y)$"
   ]
  },
  {
   "cell_type": "markdown",
   "metadata": {
    "tags": []
   },
   "source": [
    "##### Réponse\n",
    "\n",
    "On a $f_{X,(Y,Z)}(x,y,z)=f_{X|(Y,Z)=(y,z)}(x)f_{(Y,Z)}(y,z)=f_{X|(Y,Z)=(y,z)}(x)f_{Y|Z=z}(y)f_{Z}(z)$.\n",
    "\n",
    "De plus, $f_{(X,Y),Z}(x,y,z)=f_{(X,Y)|Z=z}(x,y)f_{Z}(z)$ et $f_{X,Y,Z}(x,y,z)=f_{X,(Y,Z)}(x,y,z)=f_{(X,Y),Z}(x,y,z)$.\n",
    "\n",
    "D'où $\\fbox{$f_{X,Y|Z = z}(x,y) = f_{X|Y=y,Z=z}(x)f_{Y|Z=Z}(y)$}$"
   ]
  },
  {
   "cell_type": "markdown",
   "metadata": {},
   "source": [
    "5. En déduire que la densité de $(\\mathbf{Z}_{\\text{UNK}},\\mu) | \\mathbf{Z}_{\\text{OBS}} = \\mathbf{z}_{\\text{OBS}}$ s'écrit comme le produit de $f_{\\mu | \\mathbf{Z}_{\\text{OBS}} = \\mathbf{z}_{\\text{OBS}}}$ et de $f_{\\mathbf{Z}_{\\text{UNK}}| \\mu = \\mu^\\star, \\mathbf{Z}_{\\text{OBS}} = \\mathbf{z}_{\\text{OBS}}}$ que l'on exprimera.\n",
    "\n",
    "    Indication : $f_{\\mathbf{Z}_{\\text{UNK}}| \\mu = \\mu^\\star, \\mathbf{Z}_{\\text{OBS}} = \\mathbf{z}_{\\text{OBS}}}$ est identique à la densité $f_{\\mathbf{Z}_{\\text{UNK}}| \\mathbf{Z}_{\\text{OBS}} = \\mathbf{z}_{\\text{OBS}}}$ utilisée dans la partie 1 avec $\\mu = \\mu^\\star$"
   ]
  },
  {
   "cell_type": "markdown",
   "metadata": {
    "tags": []
   },
   "source": [
    "##### Réponse\n",
    "\n",
    "On a d'après 4: $f_{(\\mathbf{Z}_{\\text{UNK}},\\mu) | \\mathbf{Z}_{\\text{OBS}} = \\mathbf{z}_{\\text{OBS}}}(z,\\mu^\\star)=f_{\\mathbf{Z}_{\\text{UNK}}| \\mu = \\mu^\\star, \\mathbf{Z}_{\\text{OBS}} = \\mathbf{z}_{\\text{OBS}}}(z)f_{\\mu | \\mathbf{Z}_{\\text{OBS}} = \\mathbf{z}_{\\text{OBS}}}(\\mu^\\star)$\n",
    "\n",
    "Pour l'expression, on a d'après le cours p19 :\n",
    "$$f_{\\mathbf{Z}_{\\text{UNK}}| \\mu = \\mu^\\star, \\mathbf{Z}_{\\text{OBS}}  = \\mathbf{z}_{\\text{OBS}}} (\\mathbf{z}_{\\text{UNK}})= \\frac{1}{(2*\\pi)^\\frac{len(\\mathbf{z}_{\\text{UNK}})}{2}*det(Csy)} * exp\\left(-\\frac{1}{2}*(\\mathbf{z}_{\\text{UNK}}-\\Psi(\\mathbf{z}_{\\text{OBS}}))^T*Csy^{-1}*(\\mathbf{z}_{\\text{UNK}}-\\Psi(\\mathbf{z}_{\\text{OBS}})\\right)$$\n",
    "\n",
    "Avec $len(\\mathbf{z}_{\\text{UNK}})$ la longueur du vecteur $\\mathbf{z}_{\\text{UNK}}$, $Csy = C_{\\text{UNK}}-C_{\\text{UNK,OBS}}*C_{\\text{OBS}}^-1*C_{\\text{UNK,OBS}}$ et $\\Psi(z_\\text{OBS}) = \\mu^\\star1len(z_\\text{UNK}) + C_{\\text{UNK,OBS}}*C_{\\text{OBS}}^-1*(\\mathbf{Z}_\\text{OBS}-\\mu^\\star1len(\\mathbf{z}_{\\text{OBS}}))$."
   ]
  },
  {
   "cell_type": "markdown",
   "metadata": {},
   "source": [
    "### Simulation\n",
    "\n",
    "On va maintenant chercher à simuler les valeurs de $\\mathbf{Z}_{\\text{UNK}}$ en tenant compte de l'incertitude sur $\\mu$.\n",
    "\n",
    "En première approche, on pourrait chercher à obtenir la densité de $\\mathbf{Z}_{\\text{UNK}} | \\mathbf{Z}_{\\text{OBS}} = \\mathbf{z}_{\\text{OBS}}$ en calculant \n",
    "$$\\int_\\mathbb{R} f_{(\\mathbf{Z}_{\\text{UNK}},\\mu) | \\mathbf{Z}_{\\text{OBS}} = \\mathbf{z}_{\\text{OBS}}}(\\mathbf{z}_{\\text{UNK}},\\mu^\\star) d\\mu^\\star$$\n",
    "mais ce calcul a peu de chances d'aboutir.\n",
    "\n",
    "On va plutôt procéder par simulations en cascade, c'est-à-dire que pour chaque simulation de $\\mathbf{Z}_{\\text{UNK}}$, on va d'abord générer une valeur $\\mu^\\star$ de $\\mu$ selon $f_{\\mu | \\mathbf{Z}_{\\text{OBS}}= \\mathbf{z}_{\\text{OBS}}}$ puis on simulera $\\mathbf{Z}_{\\text{UNK}}$ selon $f_{\\mathbf{Z}_{\\text{UNK}}| \\mathbf{Z}_{\\text{OBS}} = \\mathbf{z}_{\\text{OBS}},\\mu = \\mu^\\star}$.\n"
   ]
  },
  {
   "cell_type": "markdown",
   "metadata": {},
   "source": [
    "6. Calculer $\\widehat{\\mu}$ et $\\widehat{\\sigma}^2$. "
   ]
  },
  {
   "cell_type": "code",
   "execution_count": 77,
   "metadata": {
    "tags": []
   },
   "outputs": [
    {
     "name": "stdout",
     "output_type": "stream",
     "text": [
      "sigma^2 = 1.5368909974762894\n"
     ]
    }
   ],
   "source": [
    "# C_obs est SigmaObs calculé précédemment, et C_unk est SigmaUnknown. z_obs correspond à depth (vecteur de taille 6)\n",
    "\n",
    "I = np.ones(6)\n",
    "Sigma2 = 1/(np.vdot(I, np.dot(np.linalg.inv(SigmaObs), I.T)) + 0.25)\n",
    "print(f\"sigma^2 = {Sigma2}\")"
   ]
  },
  {
   "cell_type": "code",
   "execution_count": 78,
   "metadata": {
    "tags": []
   },
   "outputs": [
    {
     "name": "stdout",
     "output_type": "stream",
     "text": [
      "mu = -4.291350330933772\n"
     ]
    }
   ],
   "source": [
    "Mu = Sigma2*(np.vdot(I, np.dot(np.linalg.inv(SigmaObs), depth)) - 5/4)\n",
    "print(f\"mu = {Mu}\")"
   ]
  },
  {
   "cell_type": "markdown",
   "metadata": {},
   "source": [
    "7. Calculer la probabilité de $\\{\\mu| \\mathbf{Z}_{\\text{OBS}} = \\mathbf{z}_{\\text{OBS}} > 0\\}$. Proposer et implémenter un algorithme de simulation de $\\mu| \\mathbf{Z}_{\\text{OBS}} = \\mathbf{z}_{\\text{OBS}}, \\mu <0$."
   ]
  },
  {
   "cell_type": "markdown",
   "metadata": {
    "tags": []
   },
   "source": [
    "##### Réponse\n",
    "$\\mathbb{P}(\\{\\mu| \\mathbf{Z}_{\\text{OBS}} = \\mathbf{z}_{\\text{OBS}} > 0\\}) = 1-F(0)$, où $F$ est la fonction de répartition de $\\mu| \\mathbf{Z}_{\\text{OBS}}=\\mathbf{z}_{\\text{OBS}}$: $F(0)=\\int_{-\\infty}^0 f_{\\mu | \\mathbf{Z}_{\\text{OBS}}=\\mathbf{z}_{\\text{OBS}}}(x)dx$.\n",
    "\n",
    "Or, on a vu Q.3 que la variable aléatoire $\\mu | \\mathbf{Z}_{\\text{OBS}}=\\mathbf{z}_{\\text{OBS}}$ suit $\\mathcal{N}(\\widehat{\\mu},\\widehat{\\sigma}^2)$, d'où: "
   ]
  },
  {
   "cell_type": "code",
   "execution_count": 89,
   "metadata": {
    "tags": []
   },
   "outputs": [
    {
     "name": "stdout",
     "output_type": "stream",
     "text": [
      "0.0002685226388166117\n"
     ]
    }
   ],
   "source": [
    "def f_muZobs(x): #fonction densité de mu|Zobs\n",
    "    return math.exp(-(x - Mu)**2/(2*Sigma2)) / (math.sqrt(2*math.pi*Sigma2))\n",
    "\n",
    "proba, error = quad(f_muZobs, 0, math.inf)\n",
    "print(proba) #proba que mu soit positif: on voit que la proba est très faible !!"
   ]
  },
  {
   "cell_type": "markdown",
   "metadata": {},
   "source": [
    "Or, on a vu Q.3 que la variable aléatoire $\\mu | \\mathbf{Z}_{\\text{OBS}}=\\mathbf{z}_{\\text{OBS}}$ suit $\\mathcal{N}(\\widehat{\\mu},\\widehat{\\sigma}^2)$, d'où: "
   ]
  },
  {
   "cell_type": "code",
   "execution_count": 90,
   "metadata": {},
   "outputs": [],
   "source": [
    "def sim_mu():\n",
    "    res = 1 #valeur arbitraire, positive, pour rentrer dans la boucle\n",
    "    while res > 0:\n",
    "        res = np.random.normal(Mu, Sigma2)\n",
    "    return res\n",
    "\n",
    "def energie_cin(mu):\n",
    "    return mu + np.matmul(np.transpose(SigmaObsUnknown), np.matmul(np.linalg.inv(SigmaObs), depth-mu))\n",
    "\n",
    "def couple():\n",
    "    mu = sim_mu() #on doit le fixer pour renvoyer un couple\n",
    "    return rejet(energie_cin(mu)), mu"
   ]
  },
  {
   "cell_type": "markdown",
   "metadata": {},
   "source": [
    "8. Générer un couple $\\mathbf{Z}_{\\text{UNK}}, \\mu| \\mathbf{Z}_{\\text{OBS}}, \\mu <0$ et représenter le profil de profondeur obtenu. On prendra soin de ne générer que des valeurs négatives de $\\mathbf{Z}_{\\text{UNK}}$ en utilisant l'algorithme de la section précédente."
   ]
  },
  {
   "cell_type": "code",
   "execution_count": 91,
   "metadata": {},
   "outputs": [
    {
     "data": {
      "image/png": "[encoded data removed]",
      "text/plain": [
       "<Figure size 432x288 with 1 Axes>"
      ]
     },
     "metadata": {
      "needs_background": "light"
     },
     "output_type": "display_data"
    }
   ],
   "source": [
    "mu = sim_mu()  # fixe mu\n",
    "Ec2 = energie_cin(mu)\n",
    "\n",
    "allval3[unknown_indexes] = simu\n",
    "plt.plot(discretization, allval3);\n"
   ]
  },
  {
   "cell_type": "markdown",
   "metadata": {},
   "source": [
    "9. Générer 10000 profils de profondeur et calculer les longueurs de câble associées. Comparer la valeur moyenne de la longueur de câble, dont on visualisera la convergence, l'histogramme des longueurs de câble, l'intervalle de confiance obtenu par la méthode des quantiles, la probabilité de dépassement du seuil de 525 m avec les résultats obtenus précédemment. Commenter."
   ]
  },
  {
   "cell_type": "code",
   "execution_count": 92,
   "metadata": {},
   "outputs": [
    {
     "data": {
      "image/png": "[encoded data removed]",
      "text/plain": [
       "<Figure size 432x288 with 1 Axes>"
      ]
     },
     "metadata": {
      "needs_background": "light"
     },
     "output_type": "display_data"
    },
    {
     "name": "stdout",
     "output_type": "stream",
     "text": [
      "moyenne: 521.6774831982445\n"
     ]
    },
    {
     "data": {
      "image/png": "[encoded data removed]",
      "text/plain": [
       "<Figure size 432x288 with 1 Axes>"
      ]
     },
     "metadata": {
      "needs_background": "light"
     },
     "output_type": "display_data"
    },
    {
     "name": "stdout",
     "output_type": "stream",
     "text": [
      "quantile: [516.39910613 527.48329545]\n",
      "proba: 0.124\n"
     ]
    }
   ],
   "source": [
    "K = 10000\n",
    "result = np.zeros(K)\n",
    "for i in range(K):\n",
    "    simu, mu = couple()\n",
    "    allval3[unknown_indexes] = simu\n",
    "    result[i] = length(allval3, Delta)\n",
    "      \n",
    "#moyenne\n",
    "indice_simu = 1 + np.arange(K)\n",
    "plt.plot(indice_simu, np.cumsum(result) / indice_simu, color = 'b')\n",
    "plt.show()\n",
    "print (f\"moyenne: {sum(result)/K}\")\n",
    "\n",
    "#histogramme\n",
    "plt.hist(result, 50, density = True, color = 'b')\n",
    "plt.show()\n",
    "\n",
    "#intervalle de confiance\n",
    "print(f\"quantile: {np.quantile(result,[0.025,0.975])}\")\n",
    "\n",
    "#proba de dépassement\n",
    "print(f\"proba: {np.mean(result>525)}\")"
   ]
  },
  {
   "cell_type": "markdown",
   "metadata": {},
   "source": [
    "*On n'observe que de très faibles changements: la longueur de câble est un peu plus faible, l'histogramme est un peu plus \"gaussien\". L'intervalle de confiance, lui, ne change pas (alors qu'on pourrait penser le contraire étant donné que la moyenne devient variable).*"
   ]
  },
  {
   "cell_type": "markdown",
   "metadata": {},
   "source": [
    "10. Qu'adviendrait-il selon vous si on rendait également aléatoires les autres paramètres du modèle $\\sigma^2$ et $a$ ?"
   ]
  },
  {
   "cell_type": "markdown",
   "metadata": {},
   "source": [
    "##### Réponse\n",
    "\n",
    "On peut penser que rendre aussi $\\sigma^2$ et $a$ aléatoires ne changerait que très peu (sur un nombre conséquent de simulations seulement, car Cov change !!) les données du problème, comme c'est le cas avec $\\mu$."
   ]
  },
  {
   "cell_type": "markdown",
   "metadata": {},
   "source": []
  },
  {
   "cell_type": "markdown",
   "metadata": {},
   "source": [
    "11. (facultatif) On suppose désormais que $\\alpha = \\frac1{\\sigma^2} \\sim \\Gamma(a_1,a_2)$, où $\\sigma^2$ correspond au paramètre qui intervient dans la fonction $C$. Donner l'expression de la densité de $\\alpha | \\mathbf{Z}_{\\text{OBS}} = \\mathbf{z}_{\\text{OBS}}$,  de $\\mu | \\alpha, \\mathbf{Z}_{\\text{OBS}} = \\mathbf{z}_{\\text{OBS}},$ et de $\\mathbf{Z}_{\\text{UNK}} | \\mu, \\alpha, \\mathbf{Z}_{\\text{OBS}} = \\mathbf{z}_{\\text{OBS}}$. Proposer un algorithme de simulation tenant compte de l'incertitude sur le paramètre $\\alpha$ et analyser son impact sur les différentes quantités évaluées.\n",
    "\n",
    "    Indication : Pour identifier la densité de $\\alpha | \\mathbf{Z}_{\\text{OBS}} = \\mathbf{z}_{\\text{OBS}}$, exprimer d'abord la densité jointe de $(\\alpha,\\mu, \\mathbf{Z}_{\\text{OBS}})$ puis marginaliser pour obtenir la densité de $(\\alpha,\\mathbf{Z}_{\\text{OBS}})$\n"
   ]
  }
 ],
 "metadata": {
  "@webio": {
   "lastCommId": "5ceb69a5bbd14071b254c2439a58ac4b",
   "lastKernelId": "0e923419-c540-42c1-ab5f-d0e05ff4521c"
  },
  "kernelspec": {
   "display_name": "Python 3",
   "language": "python",
   "name": "python3"
  },
  "language_info": {
   "codemirror_mode": {
    "name": "ipython",
    "version": 3
   },
   "file_extension": ".py",
   "mimetype": "text/x-python",
   "name": "python",
   "nbconvert_exporter": "python",
   "pygments_lexer": "ipython3",
   "version": "3.8.3"
  }
 },
 "nbformat": 4,
 "nbformat_minor": 2
}
